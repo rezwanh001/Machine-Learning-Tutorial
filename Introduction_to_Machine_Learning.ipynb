{
  "nbformat": 4,
  "nbformat_minor": 0,
  "metadata": {
    "colab": {
      "name": "Introduction to Machine Learning.ipynb",
      "version": "0.3.2",
      "provenance": [],
      "collapsed_sections": [],
      "include_colab_link": true
    },
    "kernelspec": {
      "name": "python3",
      "display_name": "Python 3"
    }
  },
  "cells": [
    {
      "cell_type": "markdown",
      "metadata": {
        "id": "view-in-github",
        "colab_type": "text"
      },
      "source": [
        "<a href=\"https://colab.research.google.com/github/rezwanh001/Machine-Learning-Tutorial/blob/master/Introduction_to_Machine_Learning.ipynb\" target=\"_parent\"><img src=\"https://colab.research.google.com/assets/colab-badge.svg\" alt=\"Open In Colab\"/></a>"
      ]
    },
    {
      "metadata": {
        "id": "VLO5RcaLmd37",
        "colab_type": "text"
      },
      "cell_type": "markdown",
      "source": [
        "# Introduction to Machine Learning(ML)\n"
      ]
    },
    {
      "metadata": {
        "id": "L0Hg-e04mVgt",
        "colab_type": "text"
      },
      "cell_type": "markdown",
      "source": [
        "## Machine-Learning-Tutorial\n",
        "\n",
        " ------------\n",
        "\n",
        "### Q1. What is Machine Learning?\n",
        "\n",
        "   *Ans:* There's a science of getting computers to learn without being explicitly programmed [1].  \n",
        "   \n",
        "   * Aurthur Samuel(1959). Machine learning: Field of study that gives computers the ability to learn without being explicitly programmed. This is an older, informal definition.\n",
        "   \n",
        "   * Tom Mitchell(1998) Well-posed learning problem: A computer program is said to learn from experience **E** with respect to some task **T** and some performance measure **P**, if its performance on **T**, as measured by **P**, improves with experience **E** [2].\n",
        "   \n",
        "     Example: playing checkers.\n",
        "   \n",
        "     E = the experience of playing many games of checkers\n",
        "\n",
        "     T = the task of playing checkers.\n",
        "\n",
        "     P = the probability that the program will win the next game.\n",
        "\n",
        " \n",
        "### Q2. Why is machine learning so prevalent today?\n",
        "\n",
        "   *Ans:* \n",
        "    \n",
        "   * ***Grew out work in AI:*** It turns out that machine learning is a field that had grown out of the field of Artificial Intelligence(AI). We wanted to build intelligent machines and it turns out that there are a few basic things that we could program a machine to do such as how to find the shortest path from A to B. But for the most part we just did not know how to write AI programs to do the more interesting things such as web search or photo tagging or email anti-spam. There was a realization that the only way to do these things was to have a machine learn to do it by itself [1].\n",
        "   \n",
        "   * ***New capability for computers:*** Machine learning was developed as a new capability for computers and today it touches many segments of industry and basic science [1].\n",
        "   \n",
        "   * ***Examples:***\n",
        "     * Database Mining.\n",
        "     * Application can't program by hand.\n",
        "     * Self-customizing programs.\n",
        "     * Understanding human learning(brain, real AI).\n",
        "     \n",
        "     \n",
        " ### Q3. Types of Machine Learning Algorithms [1].\n",
        "    \n",
        "   * ***Supervised learning:*** In supervised learning, the idea is we're going to teach the computer how to do something.\n",
        "   * ***Unsupervised learning:*** In unsupervised learning, we're going to let it learn by itself. \n",
        "   * ***Others:*** Reinforcement learning, Recommender systems, Practical advice for applying learning algorithms.\n",
        "   \n",
        "    \n",
        " ### Q4. Supervised Learning [1]: \n",
        "  Supervised learning problems are categorized into \"regression\" and \"classification\" problems. In a regression problem, we are trying to predict results within a continuous output, meaning that we are trying to map input variables to some continuous function. In a classification problem, we are instead trying to predict results in a discrete output. In other words, we are trying to map input variables into discrete categories.\n",
        "    \n",
        "   * This is an example of housing price prediction. This picture is picked from *Andrew NG's* lecture.\n",
        "   \n",
        "      ![supervised](https://user-images.githubusercontent.com/15044221/52883642-e85fee80-3195-11e9-91de-ed8baeba9280.png)\n",
        "      \n",
        "      So, this is an example of a Supervised Learning algorithm. The term Supervised Learning refers to the fact that we gave the algorithm a data set in which the, called, \"right answers\" were given. That is we gave it a data set of houses in which for every example in this data set, we told it what is the right price. So, what was the actual price that house sold for, and the task of the algorithm was to just produce more of these right answers such as for this new house that your friend may be trying to sell.\n",
        "      \n",
        " ###### N.B: How do you deal with an infinite number of features? How do you even store an infinite number of things in the computer when your computer is going to run out of memory?\n",
        "    \n",
        "   * It turns out that when we talk about an algorithm the Support Vector Machine(SVM), there will be a neat mathematical trick that will allow a computer to deal with infinte number of features. \n",
        "   \n",
        "   \n",
        " ### Q5. Unsupervised Learning [1]: \n",
        "  Unsupervised learning allows us to approach problems with little or no idea what our results should look like. We can derive structure from data where we don't necessarily know the effect of the variables.\n",
        "  \n",
        "  Given this data set, an Unsupervised Learning algorithm might decide that the data lives in two different clusters. And so there's one cluster and there's a different cluster. And yes, Supervised Learning algorithm may break these data into these two separate clusters. So this is called a clustering algorithm.\n",
        "\n",
        "  We can derive this structure by clustering the data based on relationships among the variables in the data.\n",
        "\n",
        "  With unsupervised learning there is no feedback based on the prediction results.\n",
        "  \n",
        "   * This is an example of housing price prediction. This picture is picked from *Andrew NG's* lecture.\n",
        "      \n",
        "       ![unsupervised](https://user-images.githubusercontent.com/15044221/52896119-7ca97000-31ed-11e9-949e-8ef4b60fa0ad.png)\n",
        "       \n",
        "   * Examples:\n",
        "   \n",
        "       * Clustering: Take a collection of 1,000,000 different genes, and find a way to automatically group these genes into groups that are somehow similar or related by different variables, such as lifespan, location, roles, and so on.\n",
        "\n",
        "       * Non-clustering: The \"Cocktail Party Algorithm\", allows you to find structure in a chaotic environment. (i.e. identifying individual voices and music from a mesh of sounds at a cocktail party).\n"
      ]
    },
    {
      "metadata": {
        "id": "olHeGGJKm5MB",
        "colab_type": "text"
      },
      "cell_type": "markdown",
      "source": [
        "***References***\n",
        "\n",
        "  [1]. [Machine Learning by Andrew NG.](https://www.coursera.org/learn/machine-learning/home/welcome)\n",
        "  \n",
        "  [2]. [Machine Learning by Tom m. Mitchell]()\n"
      ]
    },
    {
      "metadata": {
        "id": "Xai78wCTm-g1",
        "colab_type": "text"
      },
      "cell_type": "markdown",
      "source": [
        "# End of Introduction Part"
      ]
    }
  ]
}